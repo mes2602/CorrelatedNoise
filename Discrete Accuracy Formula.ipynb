{
 "cells": [
  {
   "cell_type": "markdown",
   "metadata": {},
   "source": [
    "# Current state of accuracy formula\n",
    "\n",
    "We decided to restrict ourselves to the case where $s = 0$; effectively, this constrains us to the value of $p$ such that $p = \\frac{1}{1 + e^{-\\theta}}.$ This decision was justified by \n",
    "\n",
    "1) The effects we're most interested (namely, the drop in accuracy for intermediate values of $c$) are most pronounced for larger values of $p$. With the constraint $q = p/e$ from $\\frac{\\log p}{\\log q} = 1$, this gives us the value $p = \\frac{1}{1+ e^{-\\theta}}$.\n",
    "\n",
    "2) Being able to set $s = 0$ allows us to drop many terms, simplifying the overall accuracy formula and making trends more intelligible. "
   ]
  },
  {
   "cell_type": "markdown",
   "metadata": {},
   "source": [
    "## First decider accuracy formula for $n = 2$, $T = \\theta$, $s = 0$\n",
    "\n",
    "### Variables\n",
    "\n",
    "1) $n$ : number of agents\n",
    "\n",
    "2) $\\theta$ : distance of symmetric thresholds from 0\n",
    "\n",
    "3) $p$ : probability of a positive observation (increment in units of 1) $\\big(s = 0 \\rightarrow p = \\frac{1}{1 + e^{-\\theta}}\\big)$\n",
    "\n",
    "4) $T$ : timestep\n",
    "\n",
    "5) $q$ : probability of a negative observation ($q = p/e$)\n",
    "\n",
    "6) $c$ : correlation coefficient; probability of receiving a correlated observation\n",
    "\n",
    "7) $k$ : number of independent (non-correlated) observations \n",
    "\n",
    "8) $r$ : distance of 'non-deciding' agent from 'deciding' agent at the time of first decision. If both agents reach a threshold simultaneously, the 'deciding' agent is chosen randomly. \n"
   ]
  },
  {
   "cell_type": "markdown",
   "metadata": {},
   "source": [
    "\n",
    "### Formula for $T =\\theta$\n",
    "\n",
    "If we consider the beliefs of the agents to be on a two-dimensional grid, we can give the probability of reaching the edge of the grid at a certain point on a positive edge with a given number of independent observations $k$ as \n",
    "$$g_p(\\theta, c, k, r) = \\delta(r,k)c^{\\theta-k}(1-c)^k \\frac{\\theta !}{(\\theta - k)!}\\frac{p^k}{e^{r/2}(r/2)!(k-r/2)!} $$\n",
    "\n",
    "$$= \\delta(r,k)c^{\\theta-k}(1-c)^k \\frac{\\theta !}{(\\theta - k)!}\\frac{(1 + e^{-1})^{-k}}{e^{r/2}(r/2)!(k-r/2)!}  $$\n",
    "\n",
    "and the probability of reaching a certain point on a negative edge is\n",
    "$$g_q(\\theta, c, k, r) = \\frac{e^r}{e^k}g_p(\\theta, c, k ,r) $$\n",
    "\n",
    "$$  = \\delta(r,k)c^{\\theta-k}(1-c)^k \\frac{\\theta !}{(\\theta - k)!}\\frac{(1 + e^{-1})^{-k}e^{r/2}}{e^{k}(r/2)!(k-r/2)!}$$\n",
    "\n",
    "where $\\delta(r, k) = 0 $ for $ r > 2k$, $1$ else: the distance is possible to have between the two agents is controlled by the number of independent observations. \n",
    "\n",
    "Using this notation, the probability of (for example) reaching the point $(3, 1)$ at timestep $T = 3$ (for $\\theta = 3$) is given using $\\sum_{k = 0}^\\theta g_p (\\theta, c, k,2)$, since the position of the non-deciding agent, $1$, is two units away from the position of the deciding agent, $3$. \n"
   ]
  },
  {
   "cell_type": "markdown",
   "metadata": {},
   "source": [
    "If we sum over the possible numbers of independent observations, we get the total probability of a correct decision at $T = \\theta$ \n",
    "$$ P(y_{FD} = \\theta | T = \\theta) = G_p(\\theta, c) = \\sum_{k = 0}^{\\theta}\\Big(g_p(\\theta, c, k, 0) + 2\\sum_{m = 1}^{\\theta - 1}g_p(\\theta, c, k, 2m) + g_p(\\theta, c, k, 2\\theta)\\Big)$$\n",
    "\n",
    "and the total probability of a wrong decision at $T = \\theta$ is \n",
    "$$ P(y_{FD} = -\\theta | T = \\theta) = G_q(\\theta, c) = \\sum_{k = 0}^{\\theta}e^{-k}\\Big(g_p(\\theta, c, k, 0) + 2\\sum_{m = 1}^{\\theta - 1}e^{2m}g_p(\\theta, c, k, 2m) + e^{2\\theta}g_p(\\theta, c, k, 2\\theta)\\Big)$$\n",
    "\n",
    "Using these, our probability of an accurate first decision assuming we decide at time $T = \\theta$ is\n",
    "\n",
    "$$P(y_{FD} = \\theta | T = \\theta, |y_{FD}| = \\theta) = \\Bigg(1 + e^{-\\theta}\\frac{G_q(\\theta, c)}{G_p(\\theta, c)}\\Bigg)^{-1} $$\n",
    "\n",
    "$$ = \\Bigg(1 + e^{-\\theta}\\frac{\\sum_{k = 0}^{\\theta}e^{-k}\\Big(g_p(\\theta, c, k, 0) + 2\\sum_{m = 1}^{\\theta - 1}e^{2m}g_p(\\theta, c, k, 2m) + e^{2\\theta}g_p(\\theta, c, k, 2\\theta)\\Big)}{\\sum_{k = 0}^{\\theta}\\Big(g_p(\\theta, c, k, 0) + 2\\sum_{m = 1}^{\\theta - 1}g_p(\\theta, c, k, 2m) + g_p(\\theta, c, k, 2\\theta)\\Big)}\\Bigg)^{-1} $$"
   ]
  },
  {
   "cell_type": "markdown",
   "metadata": {},
   "source": [
    "## Formula for $T = \\theta + 1$\n",
    "\n",
    "Under construction. "
   ]
  }
 ],
 "metadata": {
  "kernelspec": {
   "display_name": "Python 3",
   "language": "python",
   "name": "python3"
  },
  "language_info": {
   "codemirror_mode": {
    "name": "ipython",
    "version": 3
   },
   "file_extension": ".py",
   "mimetype": "text/x-python",
   "name": "python",
   "nbconvert_exporter": "python",
   "pygments_lexer": "ipython3",
   "version": "3.8.5"
  }
 },
 "nbformat": 4,
 "nbformat_minor": 4
}
