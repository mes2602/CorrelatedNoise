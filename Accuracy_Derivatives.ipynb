{
 "cells": [
  {
   "cell_type": "markdown",
   "metadata": {},
   "source": [
    "# Accuracy Formula\n",
    "\n",
    "For decisions made at the first possible timestep ($T_{FD} = \\theta$) and for cliques of size $n = 2$,  we have that the accuracy is less than the previously expected $\\frac{1}{1+e^{-\\theta}}$. We can give this as \n",
    "\n",
    "$$\\frac{1}{1+\\frac{q^\\theta G_q(\\theta,c)}{p^\\theta G_p(\\theta,c)}} \\leq \\frac{1}{1+e^{-\\theta}}$$\n",
    "\n",
    "where $G_p(\\theta)$ is the sum of the probabilities associated with the non-deciding agent having a particular amount of evidence at the time of the first decision:\n",
    "\n",
    "$$G_p(\\theta) = \\sum^\\theta_{k = 0}\\Big[g_p(\\theta,0,k) + 2\\sum_{r=1}^{2\\theta -1}[g_p(\\theta,r,k)] + g_p(\\theta,2\\theta,k)\\Big]; $$\n",
    "\n",
    "$$ g_p(\\theta,r,k) = \\delta (r,k) c^{\\theta-k}(1-c)^k\\frac{_\\theta \\mathbf{P}_\\theta}{(\\theta-k)!} \\sum_{m=0}^{\\text{floor}((k-|k-r|)/2)}\\frac{ p^{\\text{max}(k-r,0)+m}s^{k-|k-r|-2m}q^{\\text{max}(r-k,0)+m}}{(|k-r|+m)!(k-|k-r| -2m)!m!}$$\n",
    "\n",
    "with $k$ as the number of independent observations and $r$ as the distance between the positions of the first-deciding and non-first-deciding agents at the time of the first decision. $G_q$ has the same formula as $G_p$ but with $q$ and $p$ exchanged. \n",
    "\n",
    "Comparing the quantities, we have that $$G_q(\\theta,c) =  G_p(\\theta,c)+\\sum_{k=1}^{\\theta-1} c^{\\theta-k}(1-c)^k\\frac{_\\theta\\mathbf{P}_\\theta}{(\\theta-k)!k!}\\big[p^k - q^k\\big] $$\n",
    "\n",
    "so that the accuracy formula may also be given as \n",
    "$$ \\frac{1}{1+e^{-\\theta}\\frac{ G_p(\\theta,c)+\\sum_{k=1}^{\\theta-1} c^{\\theta-k}(1-c)^k\\frac{_\\theta\\mathbf{P}_\\theta}{(\\theta-k)!k!}\\big[p^k - q^k\\big]}{ G_p(\\theta,c)}} \\leq \\frac{1}{1+e^{-\\theta}}.$$\n",
    "\n"
   ]
  },
  {
   "cell_type": "markdown",
   "metadata": {},
   "source": [
    "## Derivatives of accuracy formula\n",
    "\n",
    "Using Matlab symbolic formulas, we can get graphs of the first and second derivatives of the accuracy. The below graphs use  the values $\\theta = 2$, $p = 0.5$\n",
    "\n",
    "In the first graph, we approximate the zero of the first derivative using the Matlab solver; in the second, we note that the second derivative is positive on the the interval $c \\in [0,1]$. \n",
    "\n"
   ]
  },
  {
   "cell_type": "code",
   "execution_count": 2,
   "metadata": {},
   "outputs": [
    {
     "data": {
      "text/html": [
       "<table><tr><td><img src='Accuracy_DerivativesImgs/FirstDerAcc.png'></td><td><img src='Accuracy_DerivativesImgs/SecDerAcc.png'></td></tr></table>"
      ],
      "text/plain": [
       "<IPython.core.display.HTML object>"
      ]
     },
     "metadata": {},
     "output_type": "display_data"
    }
   ],
   "source": [
    "from IPython.display import HTML, display\n",
    "display(HTML(\"<table><tr><td><img src='Accuracy_DerivativesImgs/FirstDerAcc.png'></td><td><img src='Accuracy_DerivativesImgs/SecDerAcc.png'></td></tr></table>\"))"
   ]
  },
  {
   "cell_type": "markdown",
   "metadata": {},
   "source": [
    "Analytically, given \n",
    "$$\\text{acc} = \\frac{1}{1+\\frac{q^\\theta G_q(\\theta,c)}{p^\\theta G_p(\\theta,c)}} $$\n",
    "we have \n",
    "$$\\frac{d}{dc}\\text{acc} = -\\bigg(1 + \\frac{q^\\theta G_q(\\theta,c)}{p^\\theta G_p(\\theta,c)}\\bigg)^{-2}\\frac{G_p G_q' - G_q G_p'}{G_p^2}. $$\n",
    "\n",
    "In the case where $\\theta = 2$, we have that\n",
    "\n",
    "$$G_q = G_p +2c(1-c)(p-q) $$\n",
    "\n",
    "and for the first derivatives,\n",
    "\n",
    "$$G_p' = 2\\bigg((1-c)\\big(2q + 2pq + (p+q)^2\\big) + c + p - 2\\bigg); $$\n",
    " \n",
    "$$G_q' = G_p' +  2(1-2c)(p-q)$$\n",
    "\n",
    "so that the derivative of accuracy may be rewritten \n",
    "\n",
    "$$\\frac{d}{dc}\\text{acc} = -\\bigg(1 + \\frac{q^2 (G_p +2c(1-c)(p-q))}{p^2 G_p}\\bigg)^{-2}\\frac{G_p \\big(G_p' +  2(1-2c)(p-q)\\big) - \\big(G_p +2c(1-c)(p-q)\\big) G_p'}{G_p^2}. $$\n",
    "\n",
    "\n",
    "$G_p$ is always positive, so the first major term is always positive (or always negative, if you include the negative sign). Taking just the second term, we can reorganize it as\n",
    "\n",
    "$$2(q-p)\\frac{G_p'}{G_p}\\bigg(G_p(1-2c) + c(1-c)G_p'\\bigg) $$\n",
    "\n",
    "If we take $c = \\epsilon \\rightarrow 0$, \n",
    "\n",
    "$$G_p' = 2\\bigg((1-\\epsilon)\\big(2q + 2pq + (p+q)^2\\big) + \\epsilon + p - 2\\bigg) $$\n",
    "which we can rearrange to \n",
    "$$ G_p' = 2\\bigg((2q + 2pq + (p+q)^2 - p -2) + \\epsilon (1-2q -2pq -(p+q)^2)\\bigg).$$\n",
    "\n",
    "Leaving the part multiplied by $\\epsilon$, our question becomes whether \n",
    "$$2q + 2pq + (p+q)^2 - p -2 > 0. $$\n",
    "\n",
    "Again using the Matlab solver, this expression will be negative for values of $p$ up to around $0.6$, which will give us a negative first derivative as $c \\rightarrow 0$. \n",
    "\n",
    "\n",
    "If we take $c = 1-\\epsilon \\rightarrow 1$,\n",
    "\n",
    "$$G_p' = 2\\bigg((1-1 + \\epsilon)(2q + 2pq + (p+q)^2) + 1-\\epsilon + p - 2\\bigg) $$\n",
    "and our quantity of interest is $1-\\epsilon + p -2$, which is negative. \n",
    "\n",
    "Then, we have $$2(q-p)\\frac{G_p'}{G_p}\\bigg(G_p(1-2+2\\epsilon) + (1-\\epsilon)(1-1+\\epsilon)G_p'\\bigg)$$\n",
    "so that (when multiplied by the negative first term), the first derivative is positive.\n"
   ]
  },
  {
   "cell_type": "markdown",
   "metadata": {},
   "source": [
    "## Full expression for derivative for $\\theta = 2$\n",
    "\n",
    "We have\n",
    "$$\\frac{d}{dc}\\text{acc} = -\\bigg(1 + \\frac{q^\\theta G_q(\\theta,c)}{p^\\theta G_p(\\theta,c)}\\bigg)^{-2}\\frac{G_p G_q' - G_q G_p'}{G_p^2} $$\n",
    "\n",
    "with for $\\theta = 2$\n",
    "\n",
    "$$G_p(\\theta = 2) = c^2 + c(1-c)2\\big(p + 2s + 2q\\big) + (1-c)^2  \\big(p^2 + 4ps + 4sq + 2s^2 + q^2\\big) $$\n",
    "$$G_q(\\theta = 2) = c^2 + c(1-c)2\\big(2p + 2s + q\\big) + (1-c)^2 \\big(p^2 + 4ps + 4sq + 2s^2 + q^2\\big) $$\n",
    "$$G_p'(\\theta = 2) = 2c + (1-2c)2(2-p) - 2(1-c)\\big(2s + 2ps + 2sq + p^2 + q^2\\big) $$\n",
    "$$G_q'(\\theta = 2) = 2c + (1-2c)2(2-q) - 2(1-c)\\big(2s + 2ps + 2sq + p^2 + q^2\\big) $$\n",
    "\n",
    "So the overall expression for the derivative when $\\theta = 2$ is \n",
    "\n",
    "$$\\frac{d}{dc}\\text{acc} = -\\Bigg(1 + \\frac{q^\\theta \\bigg(c^2 + 2c(1-c)\\big(2p + 2s + q\\big) + (1-c)^2 \\big(p^2 + 4ps + 4sq + 2s^2 + q^2\\big)\\bigg)}{p^\\theta \\bigg(c^2 + 2c(1-c)\\big(p + 2s + 2q\\big) + (1-c)^2  \\big(p^2 + 4ps + 4sq + 2s^2 + q^2\\big)\\bigg)}\\Bigg)^{-2}\\Bigg( \\frac{ \\bigg(2c + 2(1-2c)(2-q) - 2(1-c)\\big(2s + 2ps + 2sq + p^2 + q^2\\big)\\bigg)}{\\bigg(c^2 + 2c(1-c)\\big(p + 2s + 2q\\big) + (1-c)^2  \\big(p^2 + 4ps + 4sq + 2s^2 + q^2\\big)\\bigg)} - \\frac{\\bigg(c^2 + c(1-c)2\\big(2p + 2s + q\\big) + (1-c)^2 \\big(p^2 + 4ps + 4sq + 2s^2 + q^2\\big)\\bigg) \\bigg(2c + 2(1-2c)(2-p) - 2(1-c)\\big(2s + 2ps + 2sq + p^2 + q^2\\big)\\bigg)}{\\bigg(c^2 + 2c(1-c)\\big(p + 2s + 2q\\big) + (1-c)^2  \\big(p^2 + 4ps + 4sq + 2s^2 + q^2\\big)\\bigg)^2}\\Bigg)$$"
   ]
  },
  {
   "cell_type": "markdown",
   "metadata": {},
   "source": [
    "## Behavior of minimums\n",
    "\n",
    "\n",
    "The location and severity of the minimum depend on $p$ ($p$ also uniquely determines $q$ and $s$.) For the case of $n = 2$, $\\theta = 2$ we have that $c$-value of the minimum and the discrepancy between the 'expected' accuracy and the accuracy at the minimum both drop as $p$ increases."
   ]
  },
  {
   "cell_type": "code",
   "execution_count": 3,
   "metadata": {},
   "outputs": [
    {
     "data": {
      "text/html": [
       "<table><tr><td><img src='Accuracy_DerivativesImgs/cLocMin.png'></td><td><img src='Accuracy_DerivativesImgs/accDropMin.png'></td></tr></table>"
      ],
      "text/plain": [
       "<IPython.core.display.HTML object>"
      ]
     },
     "metadata": {},
     "output_type": "display_data"
    }
   ],
   "source": [
    "\n",
    "display(HTML(\"<table><tr><td><img src='Accuracy_DerivativesImgs/cLocMin.png'></td><td><img src='Accuracy_DerivativesImgs/accDropMin.png'></td></tr></table>\"))"
   ]
  },
  {
   "cell_type": "code",
   "execution_count": null,
   "metadata": {},
   "outputs": [],
   "source": []
  }
 ],
 "metadata": {
  "kernelspec": {
   "display_name": "Python 3",
   "language": "python",
   "name": "python3"
  },
  "language_info": {
   "codemirror_mode": {
    "name": "ipython",
    "version": 3
   },
   "file_extension": ".py",
   "mimetype": "text/x-python",
   "name": "python",
   "nbconvert_exporter": "python",
   "pygments_lexer": "ipython3",
   "version": "3.8.5"
  }
 },
 "nbformat": 4,
 "nbformat_minor": 4
}
