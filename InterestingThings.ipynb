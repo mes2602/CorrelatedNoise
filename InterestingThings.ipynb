{
 "cells": [
  {
   "cell_type": "markdown",
   "metadata": {},
   "source": [
    "# brief model explanation\n",
    "In the continuous case, we have that individual beliefs evolve according to $$dy = dt + \\sqrt{2}(\\sqrt{c}dW_C + \\sqrt{1-c}dW), $$ where $c$ is the correlation coefficient and $dW_C$ is the common noise. \n",
    "\n",
    "In the $H^+$ environment, our drift term is $dt$ and in the $H^-$ environment our drift term is $-dt$.\n",
    "\n"
   ]
  },
  {
   "cell_type": "markdown",
   "metadata": {},
   "source": [
    "\n",
    "In the discrete case, evidence comes in increments of ${-1,0,1}$.\n",
    "\n",
    "In an $H^+$ environment, an observation is $\\{-1,0,1\\}$ with probability $\\{q,s,p\\}$ where $0 < p < 1$, $q = p/e$, and $s = 1 - p - q$. \n",
    "\n",
    "In an $H^-$ environment, the probabilities of the observations are switched so that an observation is $\\{-1,0,1\\}$ with probability $\\{p,s,q\\}$.\n",
    "\n",
    "In both, agents collect information until they reach a positive threshold $\\theta$ or negative threshold $-\\theta$. Currently, we consider only cliques with symmetric, homogeneous thresholds. \n",
    "\n",
    "The majority of the work below is done in the discrete case.\n",
    "\n",
    "Variables:\n",
    "- n: number of agents\n",
    "- c: the probability of having a correlated observation on a single timestep\n",
    "- p: probability of a positive observation \n",
    "- q: the probability of a negative observation. Here, we restrict to q = p/e.\n",
    "- k: the number of timesteps with independent observations. \n",
    "- th: short for theta. The size of the threshold. "
   ]
  },
  {
   "cell_type": "markdown",
   "metadata": {},
   "source": [
    "# Decreased accuracy of first decider dependent on c"
   ]
  },
  {
   "cell_type": "markdown",
   "metadata": {},
   "source": [
    "While in the independent case accuracy of any unperturbed walker is completely dependent on the threshold $\\theta$, when we allow some portion of correlated input among a group of agents, the first of those agents to decide has an accuracy lower than that predicted by $\\theta$. (expected $\\theta$-dependent accuraccy $ = (1 + e^{-\\theta})^{-1})$. This lowered accuracy of first decider exists in both continuous and discrete situations. Below, $c$ is the probability of an observation containing correlated information. \n",
    "(give pictures)\n",
    "\n",
    "Continuous case: \n",
    "<img src=\"interestingThingsImgs/avgFDAvsC_5000trials.png\" alt=\"Drawing\" style=\"width: 600px;\"/>\n",
    "Discrete case:\n",
    "![First Decider accuracies in discrete case](interestingThingsImgs/higherThresholds.png)\n"
   ]
  },
  {
   "cell_type": "markdown",
   "metadata": {},
   "source": [
    "While the inaccuracy of the first decider increases as the clique size $n$ increases, there appears to be a limit to the effect: \n",
    "\n",
    "![First Decider accuracies have a boundary layer](interestingThingsImgs/boundaryLayerFD.png)"
   ]
  },
  {
   "cell_type": "markdown",
   "metadata": {},
   "source": [
    "In the discrete case, it appears that to some extent this lowered accuracy's dependence on $c$ is in some part a dependence on $k$, the number of independent observations. However, the dependence does not appear to be completely uncomplicated.\n",
    "\n",
    "\n",
    "For large probabilites of positive observations, accuracy appears to be controlled largly by the number of independent observations:\n",
    "![First Decider accuracy by k for high likelihood of positive observation](interestingThingsImgs/kSplit_p_0_7.png)\n",
    "\n",
    "\n",
    "For low probabilities of positive observations (and high probabilities of uninformative observations), the relationship of accuracy with number of independent observations is more complicated, and some dependence on $c$ (or something for which $c$ serves as a proxy) is apparently still in play:\n",
    "![First Decider accuracy by k for low likelihood of positive observation](interestingThingsImgs/kSplit_p_0_3.png)"
   ]
  },
  {
   "cell_type": "markdown",
   "metadata": {},
   "source": [
    "For decisions made at the first possible timestep ($T_{FD} = \\theta$) and for cliques of size $n = 2$,  we have that the accuracy is less than the previously expected $\\frac{1}{1+e^{-\\theta}}$: $$ \\frac{1}{1+e^{-\\theta}\\frac{ G_p(\\theta)+\\sum_{k=1}^{\\theta-1} c^{\\theta-k}(1-c)^k\\frac{_\\theta\\mathbf{P}_\\theta}{(\\theta-k)!k!}\\big[p^k - q^k\\big]}{ G_p(\\theta)}} \\leq \\frac{1}{1+e^{-\\theta}}.$$\n",
    "\n",
    "where $G_p(\\theta)$ is the sum of the probabilities associated with the non-deciding agent having a particular amount of evidence at the time of the first decision. Its precise formulation is given in previous documents. $k$ is the number of timesteps at which agents made independent (uncorrelated) observations.\n",
    "\n",
    "![First Decider accuracies (analytic solid, sims dashed) for $n=2,\\theta=2$](interestingThingsImgs/2Agent_theta2_step2_plot.png)"
   ]
  },
  {
   "cell_type": "markdown",
   "metadata": {},
   "source": [
    "Currently there is an effort to extend this to decisions made at later timesteps, at least in the case of $\\theta = 2.$"
   ]
  },
  {
   "cell_type": "markdown",
   "metadata": {},
   "source": [
    "# Ordered accuracy of later deciders"
   ]
  },
  {
   "cell_type": "markdown",
   "metadata": {},
   "source": [
    "The odd accuracy rate isn't isolated to the first decider. If no social information is exchanged and all clique members are allowed to decide in their own time, the accuracy is dependent on the order of the decisions. Note: We believe the order of decision, that is, the time of the decision /relative to the decision times of other clique members/ is what matters, not the absolute decision time. While earlier deciders are less accurate than the purely $\\theta$-dependent $ (1 + e^{-\\theta})^{-1})$ accuracy, later deciders are more accurate. Furthermore, when the accuracies of all clique members are averaged together, the purely $\\theta$-dependent accuracy is recovered.\n",
    "\n",
    "![Accuracy of each agent, no social evidence](interestingThingsImgs/orderedAccs.png)"
   ]
  }
 ],
 "metadata": {
  "kernelspec": {
   "display_name": "Python 3",
   "language": "python",
   "name": "python3"
  },
  "language_info": {
   "codemirror_mode": {
    "name": "ipython",
    "version": 3
   },
   "file_extension": ".py",
   "mimetype": "text/x-python",
   "name": "python",
   "nbconvert_exporter": "python",
   "pygments_lexer": "ipython3",
   "version": "3.8.5"
  }
 },
 "nbformat": 4,
 "nbformat_minor": 4
}
